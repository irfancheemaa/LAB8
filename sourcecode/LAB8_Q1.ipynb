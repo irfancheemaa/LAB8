{
  "nbformat": 4,
  "nbformat_minor": 0,
  "metadata": {
    "colab": {
      "name": "LAB8_Q1.ipynb",
      "provenance": [],
      "collapsed_sections": []
    },
    "kernelspec": {
      "name": "python3",
      "display_name": "Python 3"
    }
  },
  "cells": [
    {
      "cell_type": "markdown",
      "metadata": {
        "id": "jPoqUzHTt7DE"
      },
      "source": [
        "Quesion1: add more dense layers to the existing code and check how the accuracy changes "
      ]
    },
    {
      "cell_type": "code",
      "metadata": {
        "id": "CYs6o5SpfFqE"
      },
      "source": [
        "import pandas as pd\r\n",
        "import numpy as np\r\n",
        "import matplotlib.pyplot as plt\r\n",
        "\r\n",
        "from keras.models import Sequential\r\n",
        "from keras.layers import Activation, Dense\r\n"
      ],
      "execution_count": 1,
      "outputs": []
    },
    {
      "cell_type": "code",
      "metadata": {
        "id": "kb9r1mkrqIfp"
      },
      "source": [
        "dataset = pd.read_csv('/content/diabetes.csv',header=None).values"
      ],
      "execution_count": 2,
      "outputs": []
    },
    {
      "cell_type": "code",
      "metadata": {
        "colab": {
          "base_uri": "https://localhost:8080/"
        },
        "id": "NhHKjuDaqsrU",
        "outputId": "a1e77e81-7b3e-49f5-cccb-cae15a1fcab0"
      },
      "source": [
        "from sklearn.model_selection import train_test_split\r\n",
        "X_train, X_test, y_train, y_test = train_test_split(dataset[:,0:8], dataset[:,8],test_size=0.25, random_state=87)\r\n",
        "\r\n",
        "X_train.shape, y_train.shape"
      ],
      "execution_count": 3,
      "outputs": [
        {
          "output_type": "execute_result",
          "data": {
            "text/plain": [
              "((576, 8), (576,))"
            ]
          },
          "metadata": {
            "tags": []
          },
          "execution_count": 3
        }
      ]
    },
    {
      "cell_type": "code",
      "metadata": {
        "colab": {
          "base_uri": "https://localhost:8080/"
        },
        "id": "gIFfyujbuEi3",
        "outputId": "6903cdc0-a171-41d2-c965-7af9015fbf1b"
      },
      "source": [
        "my_first_nn = Sequential() #sequential model created\r\n",
        "my_first_nn.add(Dense(20, input_dim=8, activation='relu')) #added hidden layer\r\n",
        "my_first_nn.add(Dense(1, activation='sigmoid')) #output layer\r\n",
        "\r\n",
        "\r\n",
        "my_first_nn.compile(loss='binary_crossentropy', optimizer='adam')\r\n",
        "my_first_nn_fitted = my_first_nn.fit(X_train, y_train, epochs=100, verbose=0,initial_epoch=0)\r\n",
        "print(my_first_nn.summary())\r\n",
        "print(round(my_first_nn.evaluate(X_test,y_test,verbose=0),3))"
      ],
      "execution_count": 4,
      "outputs": [
        {
          "output_type": "stream",
          "text": [
            "Model: \"sequential\"\n",
            "_________________________________________________________________\n",
            "Layer (type)                 Output Shape              Param #   \n",
            "=================================================================\n",
            "dense (Dense)                (None, 20)                180       \n",
            "_________________________________________________________________\n",
            "dense_1 (Dense)              (None, 1)                 21        \n",
            "=================================================================\n",
            "Total params: 201\n",
            "Trainable params: 201\n",
            "Non-trainable params: 0\n",
            "_________________________________________________________________\n",
            "None\n",
            "0.59\n"
          ],
          "name": "stdout"
        }
      ]
    },
    {
      "cell_type": "markdown",
      "metadata": {
        "id": "CUYgH4PLvKt_"
      },
      "source": [
        "Adding more dense layers and the accuracy compared"
      ]
    },
    {
      "cell_type": "code",
      "metadata": {
        "colab": {
          "base_uri": "https://localhost:8080/"
        },
        "id": "3m6Qf20BvPtM",
        "outputId": "ed60619a-fc76-40d4-939b-d99bee019c84"
      },
      "source": [
        "my_first_nn_2 = Sequential() #sequential model created\r\n",
        "my_first_nn_2.add(Dense(20, input_dim=8, activation='relu')) #added hidden layer\r\n",
        "my_first_nn_2.add(Dense(1, activation='sigmoid')) #output layer\r\n",
        "my_first_nn_2.add(Dense(1, activation='sigmoid')) #added additional dense layer\r\n",
        "my_first_nn_2.add(Dense(1, activation='sigmoid')) #added additional dense layer\r\n",
        "\r\n",
        "\r\n",
        "my_first_nn_2.compile(loss='binary_crossentropy', optimizer='adam')\r\n",
        "my_first_nn_fitted_2 = my_first_nn.fit(X_train, y_train, epochs=100, verbose=0,initial_epoch=0)\r\n",
        "print(my_first_nn_2.summary())\r\n",
        "print(round(my_first_nn_2.evaluate(X_test,y_test,verbose=0),3))"
      ],
      "execution_count": 5,
      "outputs": [
        {
          "output_type": "stream",
          "text": [
            "Model: \"sequential_1\"\n",
            "_________________________________________________________________\n",
            "Layer (type)                 Output Shape              Param #   \n",
            "=================================================================\n",
            "dense_2 (Dense)              (None, 20)                180       \n",
            "_________________________________________________________________\n",
            "dense_3 (Dense)              (None, 1)                 21        \n",
            "_________________________________________________________________\n",
            "dense_4 (Dense)              (None, 1)                 2         \n",
            "_________________________________________________________________\n",
            "dense_5 (Dense)              (None, 1)                 2         \n",
            "=================================================================\n",
            "Total params: 205\n",
            "Trainable params: 205\n",
            "Non-trainable params: 0\n",
            "_________________________________________________________________\n",
            "None\n",
            "0.676\n"
          ],
          "name": "stdout"
        }
      ]
    },
    {
      "cell_type": "markdown",
      "metadata": {
        "id": "swsBrC-Iw2rf"
      },
      "source": [
        "plotting both models "
      ]
    },
    {
      "cell_type": "code",
      "metadata": {
        "colab": {
          "base_uri": "https://localhost:8080/"
        },
        "id": "2asPPOlLw8th",
        "outputId": "eefd96e2-74ae-4fc6-f17c-52315f5bdded"
      },
      "source": [
        "print(my_first_nn_fitted.history.keys(),'\\n')\r\n",
        "print(my_first_nn_fitted_2.history.keys())"
      ],
      "execution_count": 6,
      "outputs": [
        {
          "output_type": "stream",
          "text": [
            "dict_keys(['loss']) \n",
            "\n",
            "dict_keys(['loss'])\n"
          ],
          "name": "stdout"
        }
      ]
    },
    {
      "cell_type": "code",
      "metadata": {
        "colab": {
          "base_uri": "https://localhost:8080/",
          "height": 295
        },
        "id": "0sODmk47yPPa",
        "outputId": "5a4b5db8-f8fb-4daf-a6a7-a8a946c2f69b"
      },
      "source": [
        "# summarize history for loss\r\n",
        "plt.plot(my_first_nn_fitted.history['loss'])\r\n",
        "plt.title('model loss')\r\n",
        "plt.ylabel('loss')\r\n",
        "plt.xlabel('epoch')\r\n",
        "plt.legend(['train', 'test'], loc='upper left')\r\n",
        "plt.show()"
      ],
      "execution_count": 7,
      "outputs": [
        {
          "output_type": "display_data",
          "data": {
            "image/png": "[encoded data removed]",
            "text/plain": [
              "<Figure size 432x288 with 1 Axes>"
            ]
          },
          "metadata": {
            "tags": [],
            "needs_background": "light"
          }
        }
      ]
    },
    {
      "cell_type": "code",
      "metadata": {
        "colab": {
          "base_uri": "https://localhost:8080/",
          "height": 295
        },
        "id": "uI5dcHn1zkeH",
        "outputId": "4255342b-abef-4e06-c197-2d029034353d"
      },
      "source": [
        "# summarize history for loss\r\n",
        "plt.plot(my_first_nn_fitted_2.history['loss'])\r\n",
        "plt.title('model loss')\r\n",
        "plt.ylabel('loss')\r\n",
        "plt.xlabel('epoch')\r\n",
        "plt.legend(['train', 'test'], loc='upper left')\r\n",
        "plt.show()"
      ],
      "execution_count": 8,
      "outputs": [
        {
          "output_type": "display_data",
          "data": {
            "image/png": "[encoded data removed]",
            "text/plain": [
              "<Figure size 432x288 with 1 Axes>"
            ]
          },
          "metadata": {
            "tags": [],
            "needs_background": "light"
          }
        }
      ]
    }
  ]
}